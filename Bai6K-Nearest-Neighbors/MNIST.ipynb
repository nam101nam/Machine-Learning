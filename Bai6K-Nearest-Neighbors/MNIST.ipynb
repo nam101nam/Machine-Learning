{
 "cells": [
  {
   "cell_type": "code",
   "id": "initial_id",
   "metadata": {
    "collapsed": true,
    "ExecuteTime": {
     "end_time": "2025-10-13T16:36:50.766662Z",
     "start_time": "2025-10-13T16:36:50.688809Z"
    }
   },
   "source": [
    "# %reset\n",
    "import numpy as np\n",
    "from mnist import MNIST # require `pip install python-mnist`\n",
    "# https://pypi.python.org/pypi/python-mnist/\n",
    "\n",
    "import matplotlib.pyplot as plt\n",
    "from sklearn import neighbors\n",
    "from sklearn.metrics import accuracy_score\n",
    "import time\n",
    "\n",
    "# you need to download the MNIST dataset first\n",
    "# at: http://yann.lecun.com/exdb/mnist/\n",
    "mndata = MNIST('./dir_with_mnist_data_files') # path to your MNIST folder\n",
    "mndata.load_testing()\n",
    "mndata.load_training()\n",
    "X_test = mndata.test_images\n",
    "X_train = mndata.train_images\n",
    "y_test = np.asarray(mndata.test_labels)\n",
    "y_train = np.asarray(mndata.train_labels)\n",
    "\n",
    "\n",
    "start_time = time.time()\n",
    "clf = neighbors.KNeighborsClassifier(n_neighbors = 1, p = 2)\n",
    "clf.fit(X_train, y_train)\n",
    "y_pred = clf.predict(X_test)\n",
    "end_time = time.time()\n",
    "print(\"Accuracy of 1NN for MNIST: %.2f %%\" %(100*accuracy_score(y_test, y_pred)))\n",
    "print (\"Running time: %.2f (s)\" % (end_time - start_time))"
   ],
   "outputs": [
    {
     "ename": "FileNotFoundError",
     "evalue": "[Errno 2] No such file or directory: './dir_with_mnist_data_files\\\\t10k-labels-idx1-ubyte'",
     "output_type": "error",
     "traceback": [
      "\u001B[31m---------------------------------------------------------------------------\u001B[39m",
      "\u001B[31mFileNotFoundError\u001B[39m                         Traceback (most recent call last)",
      "\u001B[36mCell\u001B[39m\u001B[36m \u001B[39m\u001B[32mIn[11]\u001B[39m\u001B[32m, line 14\u001B[39m\n\u001B[32m     11\u001B[39m \u001B[38;5;66;03m# you need to download the MNIST dataset first\u001B[39;00m\n\u001B[32m     12\u001B[39m \u001B[38;5;66;03m# at: http://yann.lecun.com/exdb/mnist/\u001B[39;00m\n\u001B[32m     13\u001B[39m mndata = MNIST(\u001B[33m'\u001B[39m\u001B[33m./dir_with_mnist_data_files\u001B[39m\u001B[33m'\u001B[39m) \u001B[38;5;66;03m# path to your MNIST folder\u001B[39;00m\n\u001B[32m---> \u001B[39m\u001B[32m14\u001B[39m \u001B[43mmndata\u001B[49m\u001B[43m.\u001B[49m\u001B[43mload_testing\u001B[49m\u001B[43m(\u001B[49m\u001B[43m)\u001B[49m\n\u001B[32m     15\u001B[39m mndata.load_training()\n\u001B[32m     16\u001B[39m X_test = mndata.test_images\n",
      "\u001B[36mFile \u001B[39m\u001B[32m~\\PycharmProjects\\.venv\\Lib\\site-packages\\mnist\\loader.py:116\u001B[39m, in \u001B[36mMNIST.load_testing\u001B[39m\u001B[34m(self)\u001B[39m\n\u001B[32m    115\u001B[39m \u001B[38;5;28;01mdef\u001B[39;00m\u001B[38;5;250m \u001B[39m\u001B[34mload_testing\u001B[39m(\u001B[38;5;28mself\u001B[39m):\n\u001B[32m--> \u001B[39m\u001B[32m116\u001B[39m     ims, labels = \u001B[38;5;28;43mself\u001B[39;49m\u001B[43m.\u001B[49m\u001B[43mload\u001B[49m\u001B[43m(\u001B[49m\u001B[43mos\u001B[49m\u001B[43m.\u001B[49m\u001B[43mpath\u001B[49m\u001B[43m.\u001B[49m\u001B[43mjoin\u001B[49m\u001B[43m(\u001B[49m\u001B[38;5;28;43mself\u001B[39;49m\u001B[43m.\u001B[49m\u001B[43mpath\u001B[49m\u001B[43m,\u001B[49m\u001B[43m \u001B[49m\u001B[38;5;28;43mself\u001B[39;49m\u001B[43m.\u001B[49m\u001B[43mtest_img_fname\u001B[49m\u001B[43m)\u001B[49m\u001B[43m,\u001B[49m\n\u001B[32m    117\u001B[39m \u001B[43m                            \u001B[49m\u001B[43mos\u001B[49m\u001B[43m.\u001B[49m\u001B[43mpath\u001B[49m\u001B[43m.\u001B[49m\u001B[43mjoin\u001B[49m\u001B[43m(\u001B[49m\u001B[38;5;28;43mself\u001B[39;49m\u001B[43m.\u001B[49m\u001B[43mpath\u001B[49m\u001B[43m,\u001B[49m\u001B[43m \u001B[49m\u001B[38;5;28;43mself\u001B[39;49m\u001B[43m.\u001B[49m\u001B[43mtest_lbl_fname\u001B[49m\u001B[43m)\u001B[49m\u001B[43m)\u001B[49m\n\u001B[32m    119\u001B[39m     \u001B[38;5;28mself\u001B[39m.test_images = \u001B[38;5;28mself\u001B[39m.process_images(ims)\n\u001B[32m    120\u001B[39m     \u001B[38;5;28mself\u001B[39m.test_labels = \u001B[38;5;28mself\u001B[39m.process_labels(labels)\n",
      "\u001B[36mFile \u001B[39m\u001B[32m~\\PycharmProjects\\.venv\\Lib\\site-packages\\mnist\\loader.py:247\u001B[39m, in \u001B[36mMNIST.load\u001B[39m\u001B[34m(self, path_img, path_lbl, batch)\u001B[39m\n\u001B[32m    243\u001B[39m     \u001B[38;5;28;01mif\u001B[39;00m \u001B[38;5;28mtype\u001B[39m(batch) \u001B[38;5;129;01mis\u001B[39;00m \u001B[38;5;129;01mnot\u001B[39;00m \u001B[38;5;28mlist\u001B[39m \u001B[38;5;129;01mor\u001B[39;00m \u001B[38;5;28mlen\u001B[39m(batch) \u001B[38;5;129;01mis\u001B[39;00m \u001B[38;5;129;01mnot\u001B[39;00m \u001B[32m2\u001B[39m:\n\u001B[32m    244\u001B[39m         \u001B[38;5;28;01mraise\u001B[39;00m \u001B[38;5;167;01mValueError\u001B[39;00m(\u001B[33m'\u001B[39m\u001B[33mbatch should be a 1-D list\u001B[39m\u001B[33m'\u001B[39m\n\u001B[32m    245\u001B[39m                          \u001B[33m'\u001B[39m\u001B[33m(start_point, batch_size)\u001B[39m\u001B[33m'\u001B[39m)\n\u001B[32m--> \u001B[39m\u001B[32m247\u001B[39m \u001B[38;5;28;01mwith\u001B[39;00m \u001B[38;5;28;43mself\u001B[39;49m\u001B[43m.\u001B[49m\u001B[43mopener\u001B[49m\u001B[43m(\u001B[49m\u001B[43mpath_lbl\u001B[49m\u001B[43m,\u001B[49m\u001B[43m \u001B[49m\u001B[33;43m'\u001B[39;49m\u001B[33;43mrb\u001B[39;49m\u001B[33;43m'\u001B[39;49m\u001B[43m)\u001B[49m \u001B[38;5;28;01mas\u001B[39;00m file:\n\u001B[32m    248\u001B[39m     magic, size = struct.unpack(\u001B[33m\"\u001B[39m\u001B[33m>II\u001B[39m\u001B[33m\"\u001B[39m, file.read(\u001B[32m8\u001B[39m))\n\u001B[32m    249\u001B[39m     \u001B[38;5;28;01mif\u001B[39;00m magic != \u001B[32m2049\u001B[39m:\n",
      "\u001B[36mFile \u001B[39m\u001B[32m~\\PycharmProjects\\.venv\\Lib\\site-packages\\mnist\\loader.py:239\u001B[39m, in \u001B[36mMNIST.opener\u001B[39m\u001B[34m(self, path_fn, *args, **kwargs)\u001B[39m\n\u001B[32m    237\u001B[39m     \u001B[38;5;28;01mreturn\u001B[39;00m gzip.open(path_fn + \u001B[33m'\u001B[39m\u001B[33m.gz\u001B[39m\u001B[33m'\u001B[39m, *args, **kwargs)\n\u001B[32m    238\u001B[39m \u001B[38;5;28;01melse\u001B[39;00m:\n\u001B[32m--> \u001B[39m\u001B[32m239\u001B[39m     \u001B[38;5;28;01mreturn\u001B[39;00m \u001B[38;5;28;43mopen\u001B[39;49m\u001B[43m(\u001B[49m\u001B[43mpath_fn\u001B[49m\u001B[43m,\u001B[49m\u001B[43m \u001B[49m\u001B[43m*\u001B[49m\u001B[43margs\u001B[49m\u001B[43m,\u001B[49m\u001B[43m \u001B[49m\u001B[43m*\u001B[49m\u001B[43m*\u001B[49m\u001B[43mkwargs\u001B[49m\u001B[43m)\u001B[49m\n",
      "\u001B[31mFileNotFoundError\u001B[39m: [Errno 2] No such file or directory: './dir_with_mnist_data_files\\\\t10k-labels-idx1-ubyte'"
     ]
    }
   ],
   "execution_count": 11
  }
 ],
 "metadata": {
  "kernelspec": {
   "display_name": "Python 3",
   "language": "python",
   "name": "python3"
  },
  "language_info": {
   "codemirror_mode": {
    "name": "ipython",
    "version": 2
   },
   "file_extension": ".py",
   "mimetype": "text/x-python",
   "name": "python",
   "nbconvert_exporter": "python",
   "pygments_lexer": "ipython2",
   "version": "2.7.6"
  }
 },
 "nbformat": 4,
 "nbformat_minor": 5
}
